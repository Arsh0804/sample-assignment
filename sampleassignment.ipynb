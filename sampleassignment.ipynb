{
 "cells": [
  {
   "cell_type": "code",
   "execution_count": 3,
   "id": "fcf11844-8842-443a-a4b6-983bf767b37d",
   "metadata": {},
   "outputs": [
    {
     "name": "stdout",
     "output_type": "stream",
     "text": [
      "Hello\n",
      "Hello, W\n",
      "!dlroW ,olleH\n"
     ]
    }
   ],
   "source": [
    "#Discuss string slicing and provide examples\\\n",
    "\n",
    "\n",
    "#String slicing in Python lets you extract a part of a string by specifying a range of indices.It's super useful for manipulating and analyzing text data. The basic syntax is string[start:stop:step], where start is the starting index, stop is the ending index (exclusive), and step determines the interval between elements.\n",
    "text = \"Hello, World!\"\n",
    "# Extract \"Hello\"\n",
    "slice1 = text[0:5]\n",
    "print(slice1) \n",
    "\n",
    "# Extract \"Hello, Wo\"\n",
    "slice2 = text[:8]\n",
    "print(slice2)  # Output: Hello, Wo\n",
    "\n",
    "# Reverse the entire string\n",
    "slice5 = text[::-1]\n",
    "print(slice5)  # Output: !dlroW ,olleH\n"
   ]
  },
  {
   "cell_type": "code",
   "execution_count": null,
   "id": "2d2d8e86-3ad6-4a1a-a805-9d92df877590",
   "metadata": {},
   "outputs": [],
   "source": []
  }
 ],
 "metadata": {
  "kernelspec": {
   "display_name": "Python 3 (ipykernel)",
   "language": "python",
   "name": "python3"
  },
  "language_info": {
   "codemirror_mode": {
    "name": "ipython",
    "version": 3
   },
   "file_extension": ".py",
   "mimetype": "text/x-python",
   "name": "python",
   "nbconvert_exporter": "python",
   "pygments_lexer": "ipython3",
   "version": "3.12.4"
  }
 },
 "nbformat": 4,
 "nbformat_minor": 5
}
